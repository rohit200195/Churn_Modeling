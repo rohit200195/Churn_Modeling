{
  "nbformat": 4,
  "nbformat_minor": 0,
  "metadata": {
    "colab": {
      "name": "Churn_Modeling_Bank_Dataset.ipynb",
      "provenance": [],
      "collapsed_sections": []
    },
    "kernelspec": {
      "name": "python3",
      "display_name": "Python 3"
    }
  },
  "cells": [
    {
      "cell_type": "markdown",
      "metadata": {
        "id": "z_bQXSNvpspS",
        "colab_type": "text"
      },
      "source": [
        "#ANN"
      ]
    },
    {
      "cell_type": "markdown",
      "metadata": {
        "id": "IWK_FOAOp0wV",
        "colab_type": "text"
      },
      "source": [
        "Data Processing"
      ]
    },
    {
      "cell_type": "code",
      "metadata": {
        "id": "5Jv0biR0pLxU",
        "colab_type": "code",
        "colab": {}
      },
      "source": [
        "import pandas as pd\n",
        "import numpy as np\n",
        "import matplotlib.pyplot as plt"
      ],
      "execution_count": 0,
      "outputs": []
    },
    {
      "cell_type": "code",
      "metadata": {
        "id": "2Jkvk3eeqADK",
        "colab_type": "code",
        "colab": {
          "base_uri": "https://localhost:8080/",
          "height": 204
        },
        "outputId": "70e20cc9-cb19-4372-be40-4a5b063a493b"
      },
      "source": [
        "#Importing dataset\n",
        "dataset = pd.read_csv(\"/content/Churn_Modelling.csv\")\n",
        "dataset.head()"
      ],
      "execution_count": 61,
      "outputs": [
        {
          "output_type": "execute_result",
          "data": {
            "text/html": [
              "<div>\n",
              "<style scoped>\n",
              "    .dataframe tbody tr th:only-of-type {\n",
              "        vertical-align: middle;\n",
              "    }\n",
              "\n",
              "    .dataframe tbody tr th {\n",
              "        vertical-align: top;\n",
              "    }\n",
              "\n",
              "    .dataframe thead th {\n",
              "        text-align: right;\n",
              "    }\n",
              "</style>\n",
              "<table border=\"1\" class=\"dataframe\">\n",
              "  <thead>\n",
              "    <tr style=\"text-align: right;\">\n",
              "      <th></th>\n",
              "      <th>RowNumber</th>\n",
              "      <th>CustomerId</th>\n",
              "      <th>Surname</th>\n",
              "      <th>CreditScore</th>\n",
              "      <th>Geography</th>\n",
              "      <th>Gender</th>\n",
              "      <th>Age</th>\n",
              "      <th>Tenure</th>\n",
              "      <th>Balance</th>\n",
              "      <th>NumOfProducts</th>\n",
              "      <th>HasCrCard</th>\n",
              "      <th>IsActiveMember</th>\n",
              "      <th>EstimatedSalary</th>\n",
              "      <th>Exited</th>\n",
              "    </tr>\n",
              "  </thead>\n",
              "  <tbody>\n",
              "    <tr>\n",
              "      <th>0</th>\n",
              "      <td>1</td>\n",
              "      <td>15634602</td>\n",
              "      <td>Hargrave</td>\n",
              "      <td>619</td>\n",
              "      <td>France</td>\n",
              "      <td>Female</td>\n",
              "      <td>42</td>\n",
              "      <td>2</td>\n",
              "      <td>0.00</td>\n",
              "      <td>1</td>\n",
              "      <td>1</td>\n",
              "      <td>1</td>\n",
              "      <td>101348.88</td>\n",
              "      <td>1</td>\n",
              "    </tr>\n",
              "    <tr>\n",
              "      <th>1</th>\n",
              "      <td>2</td>\n",
              "      <td>15647311</td>\n",
              "      <td>Hill</td>\n",
              "      <td>608</td>\n",
              "      <td>Spain</td>\n",
              "      <td>Female</td>\n",
              "      <td>41</td>\n",
              "      <td>1</td>\n",
              "      <td>83807.86</td>\n",
              "      <td>1</td>\n",
              "      <td>0</td>\n",
              "      <td>1</td>\n",
              "      <td>112542.58</td>\n",
              "      <td>0</td>\n",
              "    </tr>\n",
              "    <tr>\n",
              "      <th>2</th>\n",
              "      <td>3</td>\n",
              "      <td>15619304</td>\n",
              "      <td>Onio</td>\n",
              "      <td>502</td>\n",
              "      <td>France</td>\n",
              "      <td>Female</td>\n",
              "      <td>42</td>\n",
              "      <td>8</td>\n",
              "      <td>159660.80</td>\n",
              "      <td>3</td>\n",
              "      <td>1</td>\n",
              "      <td>0</td>\n",
              "      <td>113931.57</td>\n",
              "      <td>1</td>\n",
              "    </tr>\n",
              "    <tr>\n",
              "      <th>3</th>\n",
              "      <td>4</td>\n",
              "      <td>15701354</td>\n",
              "      <td>Boni</td>\n",
              "      <td>699</td>\n",
              "      <td>France</td>\n",
              "      <td>Female</td>\n",
              "      <td>39</td>\n",
              "      <td>1</td>\n",
              "      <td>0.00</td>\n",
              "      <td>2</td>\n",
              "      <td>0</td>\n",
              "      <td>0</td>\n",
              "      <td>93826.63</td>\n",
              "      <td>0</td>\n",
              "    </tr>\n",
              "    <tr>\n",
              "      <th>4</th>\n",
              "      <td>5</td>\n",
              "      <td>15737888</td>\n",
              "      <td>Mitchell</td>\n",
              "      <td>850</td>\n",
              "      <td>Spain</td>\n",
              "      <td>Female</td>\n",
              "      <td>43</td>\n",
              "      <td>2</td>\n",
              "      <td>125510.82</td>\n",
              "      <td>1</td>\n",
              "      <td>1</td>\n",
              "      <td>1</td>\n",
              "      <td>79084.10</td>\n",
              "      <td>0</td>\n",
              "    </tr>\n",
              "  </tbody>\n",
              "</table>\n",
              "</div>"
            ],
            "text/plain": [
              "   RowNumber  CustomerId   Surname  ...  IsActiveMember EstimatedSalary Exited\n",
              "0          1    15634602  Hargrave  ...               1       101348.88      1\n",
              "1          2    15647311      Hill  ...               1       112542.58      0\n",
              "2          3    15619304      Onio  ...               0       113931.57      1\n",
              "3          4    15701354      Boni  ...               0        93826.63      0\n",
              "4          5    15737888  Mitchell  ...               1        79084.10      0\n",
              "\n",
              "[5 rows x 14 columns]"
            ]
          },
          "metadata": {
            "tags": []
          },
          "execution_count": 61
        }
      ]
    },
    {
      "cell_type": "code",
      "metadata": {
        "id": "dBkWnXOqqNMa",
        "colab_type": "code",
        "colab": {
          "base_uri": "https://localhost:8080/",
          "height": 419
        },
        "outputId": "747bafd9-af5a-40dc-85b7-5b42f9737778"
      },
      "source": [
        "X = dataset.iloc[:,3:13]\n",
        "X"
      ],
      "execution_count": 62,
      "outputs": [
        {
          "output_type": "execute_result",
          "data": {
            "text/html": [
              "<div>\n",
              "<style scoped>\n",
              "    .dataframe tbody tr th:only-of-type {\n",
              "        vertical-align: middle;\n",
              "    }\n",
              "\n",
              "    .dataframe tbody tr th {\n",
              "        vertical-align: top;\n",
              "    }\n",
              "\n",
              "    .dataframe thead th {\n",
              "        text-align: right;\n",
              "    }\n",
              "</style>\n",
              "<table border=\"1\" class=\"dataframe\">\n",
              "  <thead>\n",
              "    <tr style=\"text-align: right;\">\n",
              "      <th></th>\n",
              "      <th>CreditScore</th>\n",
              "      <th>Geography</th>\n",
              "      <th>Gender</th>\n",
              "      <th>Age</th>\n",
              "      <th>Tenure</th>\n",
              "      <th>Balance</th>\n",
              "      <th>NumOfProducts</th>\n",
              "      <th>HasCrCard</th>\n",
              "      <th>IsActiveMember</th>\n",
              "      <th>EstimatedSalary</th>\n",
              "    </tr>\n",
              "  </thead>\n",
              "  <tbody>\n",
              "    <tr>\n",
              "      <th>0</th>\n",
              "      <td>619</td>\n",
              "      <td>France</td>\n",
              "      <td>Female</td>\n",
              "      <td>42</td>\n",
              "      <td>2</td>\n",
              "      <td>0.00</td>\n",
              "      <td>1</td>\n",
              "      <td>1</td>\n",
              "      <td>1</td>\n",
              "      <td>101348.88</td>\n",
              "    </tr>\n",
              "    <tr>\n",
              "      <th>1</th>\n",
              "      <td>608</td>\n",
              "      <td>Spain</td>\n",
              "      <td>Female</td>\n",
              "      <td>41</td>\n",
              "      <td>1</td>\n",
              "      <td>83807.86</td>\n",
              "      <td>1</td>\n",
              "      <td>0</td>\n",
              "      <td>1</td>\n",
              "      <td>112542.58</td>\n",
              "    </tr>\n",
              "    <tr>\n",
              "      <th>2</th>\n",
              "      <td>502</td>\n",
              "      <td>France</td>\n",
              "      <td>Female</td>\n",
              "      <td>42</td>\n",
              "      <td>8</td>\n",
              "      <td>159660.80</td>\n",
              "      <td>3</td>\n",
              "      <td>1</td>\n",
              "      <td>0</td>\n",
              "      <td>113931.57</td>\n",
              "    </tr>\n",
              "    <tr>\n",
              "      <th>3</th>\n",
              "      <td>699</td>\n",
              "      <td>France</td>\n",
              "      <td>Female</td>\n",
              "      <td>39</td>\n",
              "      <td>1</td>\n",
              "      <td>0.00</td>\n",
              "      <td>2</td>\n",
              "      <td>0</td>\n",
              "      <td>0</td>\n",
              "      <td>93826.63</td>\n",
              "    </tr>\n",
              "    <tr>\n",
              "      <th>4</th>\n",
              "      <td>850</td>\n",
              "      <td>Spain</td>\n",
              "      <td>Female</td>\n",
              "      <td>43</td>\n",
              "      <td>2</td>\n",
              "      <td>125510.82</td>\n",
              "      <td>1</td>\n",
              "      <td>1</td>\n",
              "      <td>1</td>\n",
              "      <td>79084.10</td>\n",
              "    </tr>\n",
              "    <tr>\n",
              "      <th>...</th>\n",
              "      <td>...</td>\n",
              "      <td>...</td>\n",
              "      <td>...</td>\n",
              "      <td>...</td>\n",
              "      <td>...</td>\n",
              "      <td>...</td>\n",
              "      <td>...</td>\n",
              "      <td>...</td>\n",
              "      <td>...</td>\n",
              "      <td>...</td>\n",
              "    </tr>\n",
              "    <tr>\n",
              "      <th>9995</th>\n",
              "      <td>771</td>\n",
              "      <td>France</td>\n",
              "      <td>Male</td>\n",
              "      <td>39</td>\n",
              "      <td>5</td>\n",
              "      <td>0.00</td>\n",
              "      <td>2</td>\n",
              "      <td>1</td>\n",
              "      <td>0</td>\n",
              "      <td>96270.64</td>\n",
              "    </tr>\n",
              "    <tr>\n",
              "      <th>9996</th>\n",
              "      <td>516</td>\n",
              "      <td>France</td>\n",
              "      <td>Male</td>\n",
              "      <td>35</td>\n",
              "      <td>10</td>\n",
              "      <td>57369.61</td>\n",
              "      <td>1</td>\n",
              "      <td>1</td>\n",
              "      <td>1</td>\n",
              "      <td>101699.77</td>\n",
              "    </tr>\n",
              "    <tr>\n",
              "      <th>9997</th>\n",
              "      <td>709</td>\n",
              "      <td>France</td>\n",
              "      <td>Female</td>\n",
              "      <td>36</td>\n",
              "      <td>7</td>\n",
              "      <td>0.00</td>\n",
              "      <td>1</td>\n",
              "      <td>0</td>\n",
              "      <td>1</td>\n",
              "      <td>42085.58</td>\n",
              "    </tr>\n",
              "    <tr>\n",
              "      <th>9998</th>\n",
              "      <td>772</td>\n",
              "      <td>Germany</td>\n",
              "      <td>Male</td>\n",
              "      <td>42</td>\n",
              "      <td>3</td>\n",
              "      <td>75075.31</td>\n",
              "      <td>2</td>\n",
              "      <td>1</td>\n",
              "      <td>0</td>\n",
              "      <td>92888.52</td>\n",
              "    </tr>\n",
              "    <tr>\n",
              "      <th>9999</th>\n",
              "      <td>792</td>\n",
              "      <td>France</td>\n",
              "      <td>Female</td>\n",
              "      <td>28</td>\n",
              "      <td>4</td>\n",
              "      <td>130142.79</td>\n",
              "      <td>1</td>\n",
              "      <td>1</td>\n",
              "      <td>0</td>\n",
              "      <td>38190.78</td>\n",
              "    </tr>\n",
              "  </tbody>\n",
              "</table>\n",
              "<p>10000 rows × 10 columns</p>\n",
              "</div>"
            ],
            "text/plain": [
              "      CreditScore Geography  Gender  ...  HasCrCard  IsActiveMember  EstimatedSalary\n",
              "0             619    France  Female  ...          1               1        101348.88\n",
              "1             608     Spain  Female  ...          0               1        112542.58\n",
              "2             502    France  Female  ...          1               0        113931.57\n",
              "3             699    France  Female  ...          0               0         93826.63\n",
              "4             850     Spain  Female  ...          1               1         79084.10\n",
              "...           ...       ...     ...  ...        ...             ...              ...\n",
              "9995          771    France    Male  ...          1               0         96270.64\n",
              "9996          516    France    Male  ...          1               1        101699.77\n",
              "9997          709    France  Female  ...          0               1         42085.58\n",
              "9998          772   Germany    Male  ...          1               0         92888.52\n",
              "9999          792    France  Female  ...          1               0         38190.78\n",
              "\n",
              "[10000 rows x 10 columns]"
            ]
          },
          "metadata": {
            "tags": []
          },
          "execution_count": 62
        }
      ]
    },
    {
      "cell_type": "code",
      "metadata": {
        "id": "Lh8tQiuKqO5K",
        "colab_type": "code",
        "colab": {
          "base_uri": "https://localhost:8080/",
          "height": 221
        },
        "outputId": "0d36a82b-f68a-4c7a-c08f-a386159f3750"
      },
      "source": [
        "y = dataset.iloc[:,13]\n",
        "y"
      ],
      "execution_count": 63,
      "outputs": [
        {
          "output_type": "execute_result",
          "data": {
            "text/plain": [
              "0       1\n",
              "1       0\n",
              "2       1\n",
              "3       0\n",
              "4       0\n",
              "       ..\n",
              "9995    0\n",
              "9996    0\n",
              "9997    1\n",
              "9998    1\n",
              "9999    0\n",
              "Name: Exited, Length: 10000, dtype: int64"
            ]
          },
          "metadata": {
            "tags": []
          },
          "execution_count": 63
        }
      ]
    },
    {
      "cell_type": "code",
      "metadata": {
        "id": "Y-bFzrtpqjQ4",
        "colab_type": "code",
        "colab": {}
      },
      "source": [
        "#Dummy Variables for categorical data\n",
        "geo = pd.get_dummies(X[\"Geography\"],drop_first=True)\n",
        "gender = pd.get_dummies(X[\"Gender\"],drop_first=True) "
      ],
      "execution_count": 0,
      "outputs": []
    },
    {
      "cell_type": "code",
      "metadata": {
        "id": "O2aQdj1CrtJR",
        "colab_type": "code",
        "colab": {}
      },
      "source": [
        "X = pd.concat([X,geo,gender],axis=1)\n"
      ],
      "execution_count": 0,
      "outputs": []
    },
    {
      "cell_type": "code",
      "metadata": {
        "id": "lZsgw8Hjrvso",
        "colab_type": "code",
        "colab": {}
      },
      "source": [
        "X = X.drop(['Geography','Gender'],axis=1)"
      ],
      "execution_count": 0,
      "outputs": []
    },
    {
      "cell_type": "code",
      "metadata": {
        "id": "UdGDU1cKsTtE",
        "colab_type": "code",
        "colab": {}
      },
      "source": [
        "#Splitting the dataset into train and test data\n",
        "from sklearn.model_selection import train_test_split\n",
        "\n",
        "X_train,X_test,Y_train,Y_test = train_test_split(X,y,test_size= 0.3,random_state=43)"
      ],
      "execution_count": 0,
      "outputs": []
    },
    {
      "cell_type": "code",
      "metadata": {
        "id": "dDnvMTshss4o",
        "colab_type": "code",
        "colab": {}
      },
      "source": [
        "#Feature Scalling\n",
        "from sklearn.preprocessing import StandardScaler\n",
        "sc = StandardScaler()\n",
        "X_train = sc.fit_transform(X_train)\n",
        "X_test = sc.fit_transform(X_test)"
      ],
      "execution_count": 0,
      "outputs": []
    },
    {
      "cell_type": "markdown",
      "metadata": {
        "id": "KENXoT2dtueB",
        "colab_type": "text"
      },
      "source": [
        "Make Artificial Nural Network"
      ]
    },
    {
      "cell_type": "code",
      "metadata": {
        "id": "GbCC6hWntia2",
        "colab_type": "code",
        "colab": {}
      },
      "source": [
        "import keras\n",
        "from keras.models import Sequential\n",
        "from keras.layers import Dense\n",
        "from keras.layers import LeakyReLU,PReLU,ELU\n",
        "from keras.layers import Dropout"
      ],
      "execution_count": 0,
      "outputs": []
    },
    {
      "cell_type": "code",
      "metadata": {
        "id": "xmwu7cciuWc4",
        "colab_type": "code",
        "colab": {}
      },
      "source": [
        "classifier = Sequential()"
      ],
      "execution_count": 0,
      "outputs": []
    },
    {
      "cell_type": "code",
      "metadata": {
        "id": "KAip3FeRuaki",
        "colab_type": "code",
        "colab": {
          "base_uri": "https://localhost:8080/",
          "height": 1000
        },
        "outputId": "74b97cca-eb49-4fb9-ccf9-a3958282f4f0"
      },
      "source": [
        "# Adding the input layer and the first hidden layer\n",
        "classifier.add(Dense(units=6,kernel_initializer='he_uniform',activation='relu',input_dim = 11))\n",
        "\n",
        "#Second Layer\n",
        "classifier.add(Dense(units = 6,kernel_initializer='he_uniform',activation='relu'))\n",
        "classifier.add(Dropout(0.20))\n",
        "#Third Layer\n",
        "classifier.add(Dense(units = 6,kernel_initializer='he_uniform',activation='relu'))\n",
        "classifier.add(Dropout(0.10))\n",
        "#Output Layer\n",
        "classifier.add(Dense(activation=\"sigmoid\", units=1, kernel_initializer=\"glorot_uniform\"))\n",
        "\n",
        "#Compile the ANN\n",
        "classifier.compile(optimizer='Adamax',loss='binary_crossentropy',metrics=['accuracy'])\n",
        "\n",
        "model_history = classifier.fit(X_train,Y_train,validation_split=0.3,batch_size=20,epochs=130)\n"
      ],
      "execution_count": 71,
      "outputs": [
        {
          "output_type": "stream",
          "text": [
            "Train on 4900 samples, validate on 2100 samples\n",
            "Epoch 1/130\n",
            "4900/4900 [==============================] - 1s 232us/step - loss: 0.5898 - acc: 0.7680 - val_loss: 0.5192 - val_acc: 0.8019\n",
            "Epoch 2/130\n",
            "4900/4900 [==============================] - 0s 84us/step - loss: 0.5240 - acc: 0.7941 - val_loss: 0.4917 - val_acc: 0.8019\n",
            "Epoch 3/130\n",
            "4900/4900 [==============================] - 0s 87us/step - loss: 0.5027 - acc: 0.7937 - val_loss: 0.4789 - val_acc: 0.8019\n",
            "Epoch 4/130\n",
            "4900/4900 [==============================] - 0s 87us/step - loss: 0.4871 - acc: 0.7939 - val_loss: 0.4682 - val_acc: 0.8019\n",
            "Epoch 5/130\n",
            "4900/4900 [==============================] - 0s 89us/step - loss: 0.4772 - acc: 0.7941 - val_loss: 0.4607 - val_acc: 0.8019\n",
            "Epoch 6/130\n",
            "4900/4900 [==============================] - 0s 87us/step - loss: 0.4705 - acc: 0.7951 - val_loss: 0.4543 - val_acc: 0.8019\n",
            "Epoch 7/130\n",
            "4900/4900 [==============================] - 0s 87us/step - loss: 0.4639 - acc: 0.7951 - val_loss: 0.4499 - val_acc: 0.8038\n",
            "Epoch 8/130\n",
            "4900/4900 [==============================] - 0s 86us/step - loss: 0.4580 - acc: 0.7959 - val_loss: 0.4460 - val_acc: 0.8033\n",
            "Epoch 9/130\n",
            "4900/4900 [==============================] - 0s 87us/step - loss: 0.4574 - acc: 0.7992 - val_loss: 0.4431 - val_acc: 0.8048\n",
            "Epoch 10/130\n",
            "4900/4900 [==============================] - 0s 90us/step - loss: 0.4567 - acc: 0.7971 - val_loss: 0.4409 - val_acc: 0.8048\n",
            "Epoch 11/130\n",
            "4900/4900 [==============================] - 0s 86us/step - loss: 0.4534 - acc: 0.7978 - val_loss: 0.4395 - val_acc: 0.8062\n",
            "Epoch 12/130\n",
            "4900/4900 [==============================] - 0s 87us/step - loss: 0.4498 - acc: 0.7986 - val_loss: 0.4377 - val_acc: 0.8057\n",
            "Epoch 13/130\n",
            "4900/4900 [==============================] - 0s 87us/step - loss: 0.4463 - acc: 0.8045 - val_loss: 0.4361 - val_acc: 0.8062\n",
            "Epoch 14/130\n",
            "4900/4900 [==============================] - 0s 86us/step - loss: 0.4451 - acc: 0.8004 - val_loss: 0.4349 - val_acc: 0.8071\n",
            "Epoch 15/130\n",
            "4900/4900 [==============================] - 0s 87us/step - loss: 0.4393 - acc: 0.8055 - val_loss: 0.4333 - val_acc: 0.8071\n",
            "Epoch 16/130\n",
            "4900/4900 [==============================] - 0s 86us/step - loss: 0.4384 - acc: 0.8067 - val_loss: 0.4319 - val_acc: 0.8071\n",
            "Epoch 17/130\n",
            "4900/4900 [==============================] - 0s 86us/step - loss: 0.4361 - acc: 0.8098 - val_loss: 0.4303 - val_acc: 0.8110\n",
            "Epoch 18/130\n",
            "4900/4900 [==============================] - 0s 88us/step - loss: 0.4380 - acc: 0.8118 - val_loss: 0.4286 - val_acc: 0.8138\n",
            "Epoch 19/130\n",
            "4900/4900 [==============================] - 0s 87us/step - loss: 0.4314 - acc: 0.8114 - val_loss: 0.4266 - val_acc: 0.8167\n",
            "Epoch 20/130\n",
            "4900/4900 [==============================] - 0s 87us/step - loss: 0.4255 - acc: 0.8116 - val_loss: 0.4241 - val_acc: 0.8176\n",
            "Epoch 21/130\n",
            "4900/4900 [==============================] - 0s 87us/step - loss: 0.4260 - acc: 0.8149 - val_loss: 0.4216 - val_acc: 0.8190\n",
            "Epoch 22/130\n",
            "4900/4900 [==============================] - 0s 86us/step - loss: 0.4277 - acc: 0.8198 - val_loss: 0.4192 - val_acc: 0.8214\n",
            "Epoch 23/130\n",
            "4900/4900 [==============================] - 0s 87us/step - loss: 0.4204 - acc: 0.8218 - val_loss: 0.4168 - val_acc: 0.8219\n",
            "Epoch 24/130\n",
            "4900/4900 [==============================] - 0s 87us/step - loss: 0.4184 - acc: 0.8237 - val_loss: 0.4148 - val_acc: 0.8233\n",
            "Epoch 25/130\n",
            "4900/4900 [==============================] - 0s 87us/step - loss: 0.4146 - acc: 0.8261 - val_loss: 0.4118 - val_acc: 0.8243\n",
            "Epoch 26/130\n",
            "4900/4900 [==============================] - 0s 86us/step - loss: 0.4189 - acc: 0.8171 - val_loss: 0.4104 - val_acc: 0.8257\n",
            "Epoch 27/130\n",
            "4900/4900 [==============================] - 0s 87us/step - loss: 0.4110 - acc: 0.8257 - val_loss: 0.4077 - val_acc: 0.8290\n",
            "Epoch 28/130\n",
            "4900/4900 [==============================] - 0s 88us/step - loss: 0.4068 - acc: 0.8292 - val_loss: 0.4056 - val_acc: 0.8300\n",
            "Epoch 29/130\n",
            "4900/4900 [==============================] - 0s 88us/step - loss: 0.4050 - acc: 0.8271 - val_loss: 0.4038 - val_acc: 0.8310\n",
            "Epoch 30/130\n",
            "4900/4900 [==============================] - 0s 88us/step - loss: 0.4054 - acc: 0.8284 - val_loss: 0.4018 - val_acc: 0.8357\n",
            "Epoch 31/130\n",
            "4900/4900 [==============================] - 0s 89us/step - loss: 0.4003 - acc: 0.8333 - val_loss: 0.3993 - val_acc: 0.8376\n",
            "Epoch 32/130\n",
            "4900/4900 [==============================] - 0s 89us/step - loss: 0.3982 - acc: 0.8327 - val_loss: 0.3977 - val_acc: 0.8390\n",
            "Epoch 33/130\n",
            "4900/4900 [==============================] - 0s 89us/step - loss: 0.3951 - acc: 0.8333 - val_loss: 0.3963 - val_acc: 0.8419\n",
            "Epoch 34/130\n",
            "4900/4900 [==============================] - 0s 94us/step - loss: 0.3994 - acc: 0.8310 - val_loss: 0.3949 - val_acc: 0.8438\n",
            "Epoch 35/130\n",
            "4900/4900 [==============================] - 0s 88us/step - loss: 0.3980 - acc: 0.8322 - val_loss: 0.3932 - val_acc: 0.8462\n",
            "Epoch 36/130\n",
            "4900/4900 [==============================] - 0s 87us/step - loss: 0.3919 - acc: 0.8333 - val_loss: 0.3915 - val_acc: 0.8457\n",
            "Epoch 37/130\n",
            "4900/4900 [==============================] - 0s 89us/step - loss: 0.3926 - acc: 0.8316 - val_loss: 0.3901 - val_acc: 0.8486\n",
            "Epoch 38/130\n",
            "4900/4900 [==============================] - 0s 93us/step - loss: 0.3898 - acc: 0.8359 - val_loss: 0.3883 - val_acc: 0.8495\n",
            "Epoch 39/130\n",
            "4900/4900 [==============================] - 0s 89us/step - loss: 0.3887 - acc: 0.8355 - val_loss: 0.3870 - val_acc: 0.8505\n",
            "Epoch 40/130\n",
            "4900/4900 [==============================] - 0s 89us/step - loss: 0.3864 - acc: 0.8376 - val_loss: 0.3861 - val_acc: 0.8514\n",
            "Epoch 41/130\n",
            "4900/4900 [==============================] - 0s 87us/step - loss: 0.3857 - acc: 0.8365 - val_loss: 0.3842 - val_acc: 0.8548\n",
            "Epoch 42/130\n",
            "4900/4900 [==============================] - 0s 89us/step - loss: 0.3809 - acc: 0.8367 - val_loss: 0.3832 - val_acc: 0.8533\n",
            "Epoch 43/130\n",
            "4900/4900 [==============================] - 0s 90us/step - loss: 0.3805 - acc: 0.8384 - val_loss: 0.3821 - val_acc: 0.8538\n",
            "Epoch 44/130\n",
            "4900/4900 [==============================] - 0s 88us/step - loss: 0.3769 - acc: 0.8408 - val_loss: 0.3813 - val_acc: 0.8538\n",
            "Epoch 45/130\n",
            "4900/4900 [==============================] - 0s 89us/step - loss: 0.3752 - acc: 0.8431 - val_loss: 0.3801 - val_acc: 0.8538\n",
            "Epoch 46/130\n",
            "4900/4900 [==============================] - 0s 89us/step - loss: 0.3782 - acc: 0.8376 - val_loss: 0.3790 - val_acc: 0.8538\n",
            "Epoch 47/130\n",
            "4900/4900 [==============================] - 0s 90us/step - loss: 0.3774 - acc: 0.8365 - val_loss: 0.3774 - val_acc: 0.8514\n",
            "Epoch 48/130\n",
            "4900/4900 [==============================] - 0s 89us/step - loss: 0.3737 - acc: 0.8408 - val_loss: 0.3764 - val_acc: 0.8538\n",
            "Epoch 49/130\n",
            "4900/4900 [==============================] - 0s 89us/step - loss: 0.3735 - acc: 0.8384 - val_loss: 0.3756 - val_acc: 0.8519\n",
            "Epoch 50/130\n",
            "4900/4900 [==============================] - 0s 89us/step - loss: 0.3722 - acc: 0.8431 - val_loss: 0.3747 - val_acc: 0.8524\n",
            "Epoch 51/130\n",
            "4900/4900 [==============================] - 0s 89us/step - loss: 0.3757 - acc: 0.8402 - val_loss: 0.3739 - val_acc: 0.8524\n",
            "Epoch 52/130\n",
            "4900/4900 [==============================] - 0s 91us/step - loss: 0.3680 - acc: 0.8408 - val_loss: 0.3732 - val_acc: 0.8543\n",
            "Epoch 53/130\n",
            "4900/4900 [==============================] - 0s 89us/step - loss: 0.3687 - acc: 0.8427 - val_loss: 0.3723 - val_acc: 0.8552\n",
            "Epoch 54/130\n",
            "4900/4900 [==============================] - 0s 88us/step - loss: 0.3728 - acc: 0.8418 - val_loss: 0.3718 - val_acc: 0.8519\n",
            "Epoch 55/130\n",
            "4900/4900 [==============================] - 0s 88us/step - loss: 0.3649 - acc: 0.8461 - val_loss: 0.3709 - val_acc: 0.8529\n",
            "Epoch 56/130\n",
            "4900/4900 [==============================] - 0s 89us/step - loss: 0.3713 - acc: 0.8390 - val_loss: 0.3706 - val_acc: 0.8533\n",
            "Epoch 57/130\n",
            "4900/4900 [==============================] - 0s 92us/step - loss: 0.3654 - acc: 0.8412 - val_loss: 0.3702 - val_acc: 0.8510\n",
            "Epoch 58/130\n",
            "4900/4900 [==============================] - 0s 94us/step - loss: 0.3624 - acc: 0.8427 - val_loss: 0.3693 - val_acc: 0.8519\n",
            "Epoch 59/130\n",
            "4900/4900 [==============================] - 0s 89us/step - loss: 0.3684 - acc: 0.8422 - val_loss: 0.3691 - val_acc: 0.8524\n",
            "Epoch 60/130\n",
            "4900/4900 [==============================] - 0s 88us/step - loss: 0.3672 - acc: 0.8437 - val_loss: 0.3690 - val_acc: 0.8529\n",
            "Epoch 61/130\n",
            "4900/4900 [==============================] - 0s 89us/step - loss: 0.3615 - acc: 0.8427 - val_loss: 0.3682 - val_acc: 0.8529\n",
            "Epoch 62/130\n",
            "4900/4900 [==============================] - 0s 92us/step - loss: 0.3630 - acc: 0.8437 - val_loss: 0.3676 - val_acc: 0.8538\n",
            "Epoch 63/130\n",
            "4900/4900 [==============================] - 0s 89us/step - loss: 0.3631 - acc: 0.8439 - val_loss: 0.3677 - val_acc: 0.8557\n",
            "Epoch 64/130\n",
            "4900/4900 [==============================] - 0s 89us/step - loss: 0.3636 - acc: 0.8431 - val_loss: 0.3676 - val_acc: 0.8548\n",
            "Epoch 65/130\n",
            "4900/4900 [==============================] - 0s 90us/step - loss: 0.3622 - acc: 0.8443 - val_loss: 0.3671 - val_acc: 0.8557\n",
            "Epoch 66/130\n",
            "4900/4900 [==============================] - 0s 91us/step - loss: 0.3632 - acc: 0.8431 - val_loss: 0.3666 - val_acc: 0.8567\n",
            "Epoch 67/130\n",
            "4900/4900 [==============================] - 0s 89us/step - loss: 0.3529 - acc: 0.8482 - val_loss: 0.3663 - val_acc: 0.8567\n",
            "Epoch 68/130\n",
            "4900/4900 [==============================] - 0s 89us/step - loss: 0.3637 - acc: 0.8424 - val_loss: 0.3658 - val_acc: 0.8571\n",
            "Epoch 69/130\n",
            "4900/4900 [==============================] - 0s 89us/step - loss: 0.3587 - acc: 0.8398 - val_loss: 0.3658 - val_acc: 0.8567\n",
            "Epoch 70/130\n",
            "4900/4900 [==============================] - 0s 89us/step - loss: 0.3593 - acc: 0.8455 - val_loss: 0.3646 - val_acc: 0.8576\n",
            "Epoch 71/130\n",
            "4900/4900 [==============================] - 0s 88us/step - loss: 0.3605 - acc: 0.8439 - val_loss: 0.3642 - val_acc: 0.8595\n",
            "Epoch 72/130\n",
            "4900/4900 [==============================] - 0s 94us/step - loss: 0.3567 - acc: 0.8439 - val_loss: 0.3638 - val_acc: 0.8590\n",
            "Epoch 73/130\n",
            "4900/4900 [==============================] - 0s 90us/step - loss: 0.3607 - acc: 0.8441 - val_loss: 0.3638 - val_acc: 0.8595\n",
            "Epoch 74/130\n",
            "4900/4900 [==============================] - 0s 90us/step - loss: 0.3599 - acc: 0.8439 - val_loss: 0.3634 - val_acc: 0.8595\n",
            "Epoch 75/130\n",
            "4900/4900 [==============================] - 0s 87us/step - loss: 0.3548 - acc: 0.8463 - val_loss: 0.3635 - val_acc: 0.8586\n",
            "Epoch 76/130\n",
            "4900/4900 [==============================] - 0s 90us/step - loss: 0.3594 - acc: 0.8435 - val_loss: 0.3629 - val_acc: 0.8590\n",
            "Epoch 77/130\n",
            "4900/4900 [==============================] - 0s 89us/step - loss: 0.3588 - acc: 0.8455 - val_loss: 0.3628 - val_acc: 0.8562\n",
            "Epoch 78/130\n",
            "4900/4900 [==============================] - 0s 87us/step - loss: 0.3561 - acc: 0.8465 - val_loss: 0.3626 - val_acc: 0.8586\n",
            "Epoch 79/130\n",
            "4900/4900 [==============================] - 0s 91us/step - loss: 0.3552 - acc: 0.8445 - val_loss: 0.3621 - val_acc: 0.8590\n",
            "Epoch 80/130\n",
            "4900/4900 [==============================] - 0s 88us/step - loss: 0.3563 - acc: 0.8441 - val_loss: 0.3620 - val_acc: 0.8590\n",
            "Epoch 81/130\n",
            "4900/4900 [==============================] - 0s 89us/step - loss: 0.3572 - acc: 0.8473 - val_loss: 0.3615 - val_acc: 0.8600\n",
            "Epoch 82/130\n",
            "4900/4900 [==============================] - 0s 95us/step - loss: 0.3534 - acc: 0.8473 - val_loss: 0.3617 - val_acc: 0.8595\n",
            "Epoch 83/130\n",
            "4900/4900 [==============================] - 0s 90us/step - loss: 0.3566 - acc: 0.8455 - val_loss: 0.3614 - val_acc: 0.8586\n",
            "Epoch 84/130\n",
            "4900/4900 [==============================] - 0s 89us/step - loss: 0.3505 - acc: 0.8467 - val_loss: 0.3615 - val_acc: 0.8600\n",
            "Epoch 85/130\n",
            "4900/4900 [==============================] - 0s 87us/step - loss: 0.3556 - acc: 0.8441 - val_loss: 0.3611 - val_acc: 0.8605\n",
            "Epoch 86/130\n",
            "4900/4900 [==============================] - 0s 90us/step - loss: 0.3524 - acc: 0.8488 - val_loss: 0.3605 - val_acc: 0.8605\n",
            "Epoch 87/130\n",
            "4900/4900 [==============================] - 0s 89us/step - loss: 0.3506 - acc: 0.8463 - val_loss: 0.3612 - val_acc: 0.8600\n",
            "Epoch 88/130\n",
            "4900/4900 [==============================] - 0s 90us/step - loss: 0.3573 - acc: 0.8453 - val_loss: 0.3611 - val_acc: 0.8595\n",
            "Epoch 89/130\n",
            "4900/4900 [==============================] - 0s 88us/step - loss: 0.3540 - acc: 0.8469 - val_loss: 0.3611 - val_acc: 0.8586\n",
            "Epoch 90/130\n",
            "4900/4900 [==============================] - 0s 88us/step - loss: 0.3490 - acc: 0.8486 - val_loss: 0.3611 - val_acc: 0.8600\n",
            "Epoch 91/130\n",
            "4900/4900 [==============================] - 0s 89us/step - loss: 0.3505 - acc: 0.8465 - val_loss: 0.3615 - val_acc: 0.8590\n",
            "Epoch 92/130\n",
            "4900/4900 [==============================] - 0s 92us/step - loss: 0.3553 - acc: 0.8469 - val_loss: 0.3610 - val_acc: 0.8581\n",
            "Epoch 93/130\n",
            "4900/4900 [==============================] - 0s 93us/step - loss: 0.3532 - acc: 0.8457 - val_loss: 0.3607 - val_acc: 0.8586\n",
            "Epoch 94/130\n",
            "4900/4900 [==============================] - 0s 90us/step - loss: 0.3511 - acc: 0.8443 - val_loss: 0.3608 - val_acc: 0.8590\n",
            "Epoch 95/130\n",
            "4900/4900 [==============================] - 0s 92us/step - loss: 0.3509 - acc: 0.8488 - val_loss: 0.3599 - val_acc: 0.8576\n",
            "Epoch 96/130\n",
            "4900/4900 [==============================] - 0s 90us/step - loss: 0.3507 - acc: 0.8449 - val_loss: 0.3592 - val_acc: 0.8586\n",
            "Epoch 97/130\n",
            "4900/4900 [==============================] - 0s 90us/step - loss: 0.3498 - acc: 0.8476 - val_loss: 0.3598 - val_acc: 0.8590\n",
            "Epoch 98/130\n",
            "4900/4900 [==============================] - 0s 92us/step - loss: 0.3540 - acc: 0.8439 - val_loss: 0.3606 - val_acc: 0.8600\n",
            "Epoch 99/130\n",
            "4900/4900 [==============================] - 0s 90us/step - loss: 0.3491 - acc: 0.8473 - val_loss: 0.3607 - val_acc: 0.8595\n",
            "Epoch 100/130\n",
            "4900/4900 [==============================] - 0s 89us/step - loss: 0.3535 - acc: 0.8433 - val_loss: 0.3607 - val_acc: 0.8610\n",
            "Epoch 101/130\n",
            "4900/4900 [==============================] - 0s 89us/step - loss: 0.3513 - acc: 0.8473 - val_loss: 0.3592 - val_acc: 0.8595\n",
            "Epoch 102/130\n",
            "4900/4900 [==============================] - 0s 89us/step - loss: 0.3531 - acc: 0.8490 - val_loss: 0.3593 - val_acc: 0.8600\n",
            "Epoch 103/130\n",
            "4900/4900 [==============================] - 0s 92us/step - loss: 0.3495 - acc: 0.8543 - val_loss: 0.3592 - val_acc: 0.8595\n",
            "Epoch 104/130\n",
            "4900/4900 [==============================] - 0s 89us/step - loss: 0.3524 - acc: 0.8545 - val_loss: 0.3589 - val_acc: 0.8576\n",
            "Epoch 105/130\n",
            "4900/4900 [==============================] - 0s 89us/step - loss: 0.3520 - acc: 0.8555 - val_loss: 0.3584 - val_acc: 0.8581\n",
            "Epoch 106/130\n",
            "4900/4900 [==============================] - 0s 93us/step - loss: 0.3496 - acc: 0.8565 - val_loss: 0.3584 - val_acc: 0.8595\n",
            "Epoch 107/130\n",
            "4900/4900 [==============================] - 0s 87us/step - loss: 0.3481 - acc: 0.8567 - val_loss: 0.3582 - val_acc: 0.8586\n",
            "Epoch 108/130\n",
            "4900/4900 [==============================] - 0s 91us/step - loss: 0.3517 - acc: 0.8557 - val_loss: 0.3591 - val_acc: 0.8595\n",
            "Epoch 109/130\n",
            "4900/4900 [==============================] - 0s 88us/step - loss: 0.3533 - acc: 0.8539 - val_loss: 0.3585 - val_acc: 0.8595\n",
            "Epoch 110/130\n",
            "4900/4900 [==============================] - 0s 87us/step - loss: 0.3530 - acc: 0.8524 - val_loss: 0.3585 - val_acc: 0.8595\n",
            "Epoch 111/130\n",
            "4900/4900 [==============================] - 0s 88us/step - loss: 0.3496 - acc: 0.8547 - val_loss: 0.3578 - val_acc: 0.8590\n",
            "Epoch 112/130\n",
            "4900/4900 [==============================] - 0s 89us/step - loss: 0.3529 - acc: 0.8559 - val_loss: 0.3583 - val_acc: 0.8590\n",
            "Epoch 113/130\n",
            "4900/4900 [==============================] - 0s 89us/step - loss: 0.3484 - acc: 0.8586 - val_loss: 0.3576 - val_acc: 0.8586\n",
            "Epoch 114/130\n",
            "4900/4900 [==============================] - 0s 90us/step - loss: 0.3476 - acc: 0.8600 - val_loss: 0.3580 - val_acc: 0.8595\n",
            "Epoch 115/130\n",
            "4900/4900 [==============================] - 0s 90us/step - loss: 0.3488 - acc: 0.8555 - val_loss: 0.3575 - val_acc: 0.8610\n",
            "Epoch 116/130\n",
            "4900/4900 [==============================] - 0s 87us/step - loss: 0.3504 - acc: 0.8535 - val_loss: 0.3577 - val_acc: 0.8648\n",
            "Epoch 117/130\n",
            "4900/4900 [==============================] - 0s 86us/step - loss: 0.3473 - acc: 0.8578 - val_loss: 0.3583 - val_acc: 0.8633\n",
            "Epoch 118/130\n",
            "4900/4900 [==============================] - 0s 91us/step - loss: 0.3499 - acc: 0.8524 - val_loss: 0.3587 - val_acc: 0.8629\n",
            "Epoch 119/130\n",
            "4900/4900 [==============================] - 0s 89us/step - loss: 0.3494 - acc: 0.8539 - val_loss: 0.3587 - val_acc: 0.8638\n",
            "Epoch 120/130\n",
            "4900/4900 [==============================] - 0s 90us/step - loss: 0.3480 - acc: 0.8535 - val_loss: 0.3586 - val_acc: 0.8624\n",
            "Epoch 121/130\n",
            "4900/4900 [==============================] - 0s 89us/step - loss: 0.3492 - acc: 0.8563 - val_loss: 0.3588 - val_acc: 0.8624\n",
            "Epoch 122/130\n",
            "4900/4900 [==============================] - 0s 91us/step - loss: 0.3466 - acc: 0.8563 - val_loss: 0.3591 - val_acc: 0.8633\n",
            "Epoch 123/130\n",
            "4900/4900 [==============================] - 0s 88us/step - loss: 0.3471 - acc: 0.8547 - val_loss: 0.3597 - val_acc: 0.8610\n",
            "Epoch 124/130\n",
            "4900/4900 [==============================] - 0s 88us/step - loss: 0.3481 - acc: 0.8571 - val_loss: 0.3585 - val_acc: 0.8629\n",
            "Epoch 125/130\n",
            "4900/4900 [==============================] - 0s 88us/step - loss: 0.3462 - acc: 0.8553 - val_loss: 0.3584 - val_acc: 0.8643\n",
            "Epoch 126/130\n",
            "4900/4900 [==============================] - 0s 88us/step - loss: 0.3442 - acc: 0.8563 - val_loss: 0.3590 - val_acc: 0.8614\n",
            "Epoch 127/130\n",
            "4900/4900 [==============================] - 0s 89us/step - loss: 0.3506 - acc: 0.8543 - val_loss: 0.3588 - val_acc: 0.8629\n",
            "Epoch 128/130\n",
            "4900/4900 [==============================] - 0s 88us/step - loss: 0.3440 - acc: 0.8618 - val_loss: 0.3577 - val_acc: 0.8614\n",
            "Epoch 129/130\n",
            "4900/4900 [==============================] - 0s 91us/step - loss: 0.3461 - acc: 0.8576 - val_loss: 0.3584 - val_acc: 0.8619\n",
            "Epoch 130/130\n",
            "4900/4900 [==============================] - 0s 87us/step - loss: 0.3461 - acc: 0.8563 - val_loss: 0.3568 - val_acc: 0.8610\n"
          ],
          "name": "stdout"
        }
      ]
    },
    {
      "cell_type": "code",
      "metadata": {
        "id": "MwhRPXgVvEAP",
        "colab_type": "code",
        "colab": {
          "base_uri": "https://localhost:8080/",
          "height": 34
        },
        "outputId": "e3a2dcd0-9911-4428-ee0f-29730c4aa01d"
      },
      "source": [
        "#model history\n",
        "print(model_history.history.keys())"
      ],
      "execution_count": 72,
      "outputs": [
        {
          "output_type": "stream",
          "text": [
            "dict_keys(['val_loss', 'val_acc', 'loss', 'acc'])\n"
          ],
          "name": "stdout"
        }
      ]
    },
    {
      "cell_type": "code",
      "metadata": {
        "id": "HUOHhjgew1z1",
        "colab_type": "code",
        "colab": {
          "base_uri": "https://localhost:8080/",
          "height": 295
        },
        "outputId": "089169bb-ea06-484a-9b79-d18bffa0cdfe"
      },
      "source": [
        "#model performance\n",
        "plt.plot(model_history.history['loss'])\n",
        "plt.plot(model_history.history['val_loss'])\n",
        "plt.title('model loss')\n",
        "plt.ylabel('loss')\n",
        "plt.xlabel('epoch')\n",
        "plt.legend(['train', 'test'], loc='upper left')\n",
        "plt.show()"
      ],
      "execution_count": 73,
      "outputs": [
        {
          "output_type": "display_data",
          "data": {
            "image/png": "[encoded data removed]",
            "text/plain": [
              "<Figure size 432x288 with 1 Axes>"
            ]
          },
          "metadata": {
            "tags": []
          }
        }
      ]
    },
    {
      "cell_type": "code",
      "metadata": {
        "id": "_X8oxehK0fuR",
        "colab_type": "code",
        "colab": {}
      },
      "source": [
        "#prediction and evaluating model\n",
        "y_pred=classifier.predict(X_test)\n",
        "y_pred = (y_pred>0.5)"
      ],
      "execution_count": 0,
      "outputs": []
    },
    {
      "cell_type": "code",
      "metadata": {
        "id": "qbp7VjMk1Arm",
        "colab_type": "code",
        "colab": {
          "base_uri": "https://localhost:8080/",
          "height": 51
        },
        "outputId": "a0c8907b-28c2-47c3-9792-a17976a46d99"
      },
      "source": [
        "#Confusion Matrix\n",
        "from sklearn.metrics import confusion_matrix\n",
        "cm = confusion_matrix(Y_test,y_pred)\n",
        "cm"
      ],
      "execution_count": 75,
      "outputs": [
        {
          "output_type": "execute_result",
          "data": {
            "text/plain": [
              "array([[2299,   88],\n",
              "       [ 326,  287]])"
            ]
          },
          "metadata": {
            "tags": []
          },
          "execution_count": 75
        }
      ]
    },
    {
      "cell_type": "code",
      "metadata": {
        "id": "KMHrx2Ju1aOI",
        "colab_type": "code",
        "colab": {
          "base_uri": "https://localhost:8080/",
          "height": 34
        },
        "outputId": "b1c4984d-fda6-446a-9e92-d3b89e916f10"
      },
      "source": [
        "#calculating model accuracy\n",
        "from sklearn.metrics import accuracy_score\n",
        "\n",
        "score = accuracy_score(y_pred,Y_test)\n",
        "score"
      ],
      "execution_count": 76,
      "outputs": [
        {
          "output_type": "execute_result",
          "data": {
            "text/plain": [
              "0.862"
            ]
          },
          "metadata": {
            "tags": []
          },
          "execution_count": 76
        }
      ]
    },
    {
      "cell_type": "code",
      "metadata": {
        "id": "WGILycav1sX2",
        "colab_type": "code",
        "colab": {}
      },
      "source": [
        ""
      ],
      "execution_count": 0,
      "outputs": []
    }
  ]
}